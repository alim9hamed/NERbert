{
  "nbformat": 4,
  "nbformat_minor": 0,
  "metadata": {
    "colab": {
      "provenance": []
    },
    "kernelspec": {
      "name": "python3",
      "display_name": "Python 3"
    },
    "language_info": {
      "name": "python"
    }
  },
  "cells": [
    {
      "cell_type": "markdown",
      "source": [
        "# **Import libraries**"
      ],
      "metadata": {
        "id": "VcwYnKFX-hhZ"
      }
    },
    {
      "cell_type": "code",
      "source": [
        "from transformers import BertTokenizer, BertForTokenClassification, AdamW\n",
        "from torch.utils.data import TensorDataset, DataLoader\n",
        "from tqdm import tqdm\n",
        "import torch"
      ],
      "metadata": {
        "id": "IvHMSRF5-pP3"
      },
      "execution_count": 16,
      "outputs": []
    },
    {
      "cell_type": "markdown",
      "source": [
        "# **Defining Entity Types and Labels**"
      ],
      "metadata": {
        "id": "CXQGCIsYCo1J"
      }
    },
    {
      "cell_type": "code",
      "source": [
        "entity_types = [\"O\", \"B-PER\", \"I-PER\", \"B-ORG\", \"I-ORG\", \"B-LOC\", \"I-LOC\"]\n",
        "# entity_types = [\n",
        "#     \"O\",         # Outside any named entity\n",
        "#     \"B-PER\",     # Beginning of a person name\n",
        "#     \"I-PER\",     # Inside a person name\n",
        "#     \"B-ORG\",     # Beginning of an organization\n",
        "#     \"I-ORG\",     # Inside an organization\n",
        "#     \"B-LOC\",     # Beginning of a location\n",
        "#     \"I-LOC\",     # Inside a location\n",
        "#     \"B-MISC\",    # Beginning of a miscellaneous entity (e.g., event, product)\n",
        "#     \"I-MISC\",    # Inside a miscellaneous entity\n",
        "#     \"B-GPE\",     # Beginning of a geopolitical entity (countries, cities, states)\n",
        "#     \"I-GPE\",     # Inside a geopolitical entity\n",
        "#     \"B-DATE\",    # Beginning of a date\n",
        "#     \"I-DATE\",    # Inside a date\n",
        "#     \"B-TIME\",    # Beginning of a time\n",
        "#     \"I-TIME\",    # Inside a time\n",
        "#     \"B-MONEY\",   # Beginning of a monetary amount\n",
        "#     \"I-MONEY\",   # Inside a monetary amount\n",
        "#     \"B-PERCENT\", # Beginning of a percentage\n",
        "#     \"I-PERCENT\", # Inside a percentage\n",
        "#     \"B-EVENT\",   # Beginning of an event (e.g., conference, tournament)\n",
        "#     \"I-EVENT\",   # Inside an event\n",
        "#     \"B-PRODUCT\", # Beginning of a product (e.g., technology, food)\n",
        "#     \"I-PRODUCT\", # Inside a product\n",
        "#     \"B-LAW\",     # Beginning of a law (e.g., legal cases, statutes)\n",
        "#     \"I-LAW\",     # Inside a law\n",
        "#     \"B-WORK_OF_ART\", # Beginning of a work of art (e.g., books, paintings)\n",
        "#     \"I-WORK_OF_ART\", # Inside a work of art\n",
        "#     \"B-LANGUAGE\", # Beginning of a language\n",
        "#     \"I-LANGUAGE\"  # Inside a language\n",
        "# ]\n",
        "num_labels = len(entity_types)\n",
        "# label_map = {label: i for i, label in enumerate(entity_types)}"
      ],
      "metadata": {
        "id": "7t8SDz6Q_ty8"
      },
      "execution_count": 141,
      "outputs": []
    },
    {
      "cell_type": "markdown",
      "source": [
        "# **Loading the Pre-Trained BERT Model and Tokenizer**"
      ],
      "metadata": {
        "id": "fGryDD42DDd5"
      }
    },
    {
      "cell_type": "code",
      "source": [
        "tokenizer = BertTokenizer.from_pretrained('bert-base-uncased')\n",
        "model = BertForTokenClassification.from_pretrained('bert-base-uncased', num_labels=num_labels)\n",
        "# model = BertModel.from_pretrained(\"bert-base-uncased\", torch_dtype=torch.float16, attn_implementation=\"sdpa\")"
      ],
      "metadata": {
        "colab": {
          "base_uri": "https://localhost:8080/"
        },
        "id": "Cmll16egDFDN",
        "outputId": "93c1e472-8362-4bc7-fa5f-3c78c00287b6"
      },
      "execution_count": 142,
      "outputs": [
        {
          "output_type": "stream",
          "name": "stderr",
          "text": [
            "/usr/local/lib/python3.10/dist-packages/transformers/tokenization_utils_base.py:1601: FutureWarning: `clean_up_tokenization_spaces` was not set. It will be set to `True` by default. This behavior will be depracted in transformers v4.45, and will be then set to `False` by default. For more details check this issue: https://github.com/huggingface/transformers/issues/31884\n",
            "  warnings.warn(\n",
            "Some weights of BertForTokenClassification were not initialized from the model checkpoint at bert-base-uncased and are newly initialized: ['classifier.bias', 'classifier.weight']\n",
            "You should probably TRAIN this model on a down-stream task to be able to use it for predictions and inference.\n"
          ]
        }
      ]
    },
    {
      "cell_type": "markdown",
      "source": [
        "# **Sample Training Data**"
      ],
      "metadata": {
        "id": "8cUt2jWGFNUc"
      }
    },
    {
      "cell_type": "code",
      "source": [
        "train_dataset_sample = [\n",
        "    {\"text\": \"John works at Google in New York.\", \"labels\": {\"entities\": [(0, 4, \"PER\"), (17, 22, \"ORG\"), (26, 34, \"GPE\")]}},\n",
        "    {\"text\": \"Apple Inc. is a technology company.\", \"labels\": {\"entities\": [(0, 10, \"ORG\")]}},\n",
        "]"
      ],
      "metadata": {
        "id": "_PIfE2hfD3E9"
      },
      "execution_count": 143,
      "outputs": []
    },
    {
      "cell_type": "markdown",
      "source": [
        "# **Tokenizing and Formatting Data**"
      ],
      "metadata": {
        "id": "Yo-eT9_uFYcs"
      }
    },
    {
      "cell_type": "code",
      "source": [
        "def tokenize_and_format_data(dataset, tokenizer):\n",
        "    tokenized_data = []\n",
        "    # Ensure entity_types is defined and accessible\n",
        "    for sample in dataset:\n",
        "        text = sample[\"text\"]\n",
        "        entities = sample[\"labels\"][\"entities\"]\n",
        "\n",
        "        # Add special tokens\n",
        "        tokens = [\"[CLS]\"] + tokenizer.tokenize(text) + [\"[SEP]\"]\n",
        "        labels = ['O'] * len(tokens)\n",
        "\n",
        "        for start, end, entity_type in entities:\n",
        "            prefix_tokens = tokenizer.tokenize(text[:start])\n",
        "            # print(f\"prefix_tokens{prefix_tokens}\")\n",
        "            # Account for [CLS] token\n",
        "            start_token = len(prefix_tokens) + 1\n",
        "            entity_tokens = tokenizer.tokenize(text[start:end])\n",
        "            end_token = start_token + len(entity_tokens) - 1\n",
        "\n",
        "            # Check if the start and end tokens are within the valid range\n",
        "            if start_token < len(labels):\n",
        "                labels[start_token] = f\"B-{entity_type}\"\n",
        "            if end_token < len(labels):\n",
        "                for i in range(start_token + 1, end_token + 1):\n",
        "                    if i < len(labels):\n",
        "                        labels[i] = f\"I-{entity_type}\"\n",
        "\n",
        "        input_ids = tokenizer.convert_tokens_to_ids(tokens)\n",
        "        # Ensure entity_types is defined and accessible\n",
        "        label_ids = [entity_types.index(label) if label in entity_types else entity_types.index('O') for label in labels]\n",
        "        padding_length = tokenizer.model_max_length - len(input_ids)\n",
        "        input_ids += [tokenizer.pad_token_id] * padding_length\n",
        "        label_ids += [entity_types.index('O')] * padding_length\n",
        "        tokenized_data.append({'input_ids': input_ids, 'labels': label_ids})\n",
        "\n",
        "    dataset = TensorDataset(\n",
        "        torch.tensor([item['input_ids'] for item in tokenized_data]),\n",
        "        torch.tensor([item['labels'] for item in tokenized_data])\n",
        "    )\n",
        "    return dataset"
      ],
      "metadata": {
        "id": "XN76zxzCigv6"
      },
      "execution_count": 144,
      "outputs": []
    },
    {
      "cell_type": "markdown",
      "source": [
        "# **Show Dataset**"
      ],
      "metadata": {
        "id": "kQRNb5whsL2b"
      }
    },
    {
      "cell_type": "code",
      "source": [
        "import pandas as pd\n",
        "# Call the function and get the dataset\n",
        "dataset = tokenize_and_format_data(train_dataset_sample, tokenizer)\n",
        "\n",
        "# Convert to DataFrame\n",
        "df = pd.DataFrame(\n",
        "    [\n",
        "        {\"input_ids\": input_ids.tolist(), \"label_ids\": label_ids.tolist()}\n",
        "        for input_ids, label_ids in dataset\n",
        "    ]\n",
        ")\n",
        "\n",
        "# Display the DataFrame\n",
        "display(df)"
      ],
      "metadata": {
        "colab": {
          "base_uri": "https://localhost:8080/",
          "height": 146
        },
        "id": "2fN6AqtvUfC6",
        "outputId": "781a35c8-0995-4ec3-87af-c2b2ea44f687"
      },
      "execution_count": 145,
      "outputs": [
        {
          "output_type": "display_data",
          "data": {
            "text/plain": [
              "                                           input_ids  \\\n",
              "0  [101, 2198, 2573, 2012, 8224, 1999, 2047, 2259...   \n",
              "1  [101, 6207, 4297, 1012, 2003, 1037, 2974, 2194...   \n",
              "\n",
              "                                           label_ids  \n",
              "0  [0, 1, 0, 0, 0, 3, 4, 0, 0, 0, 0, 0, 0, 0, 0, ...  \n",
              "1  [0, 3, 4, 4, 0, 0, 0, 0, 0, 0, 0, 0, 0, 0, 0, ...  "
            ],
            "text/html": [
              "\n",
              "  <div id=\"df-8346757e-269f-48a4-808f-35a11a71ded7\" class=\"colab-df-container\">\n",
              "    <div>\n",
              "<style scoped>\n",
              "    .dataframe tbody tr th:only-of-type {\n",
              "        vertical-align: middle;\n",
              "    }\n",
              "\n",
              "    .dataframe tbody tr th {\n",
              "        vertical-align: top;\n",
              "    }\n",
              "\n",
              "    .dataframe thead th {\n",
              "        text-align: right;\n",
              "    }\n",
              "</style>\n",
              "<table border=\"1\" class=\"dataframe\">\n",
              "  <thead>\n",
              "    <tr style=\"text-align: right;\">\n",
              "      <th></th>\n",
              "      <th>input_ids</th>\n",
              "      <th>label_ids</th>\n",
              "    </tr>\n",
              "  </thead>\n",
              "  <tbody>\n",
              "    <tr>\n",
              "      <th>0</th>\n",
              "      <td>[101, 2198, 2573, 2012, 8224, 1999, 2047, 2259...</td>\n",
              "      <td>[0, 1, 0, 0, 0, 3, 4, 0, 0, 0, 0, 0, 0, 0, 0, ...</td>\n",
              "    </tr>\n",
              "    <tr>\n",
              "      <th>1</th>\n",
              "      <td>[101, 6207, 4297, 1012, 2003, 1037, 2974, 2194...</td>\n",
              "      <td>[0, 3, 4, 4, 0, 0, 0, 0, 0, 0, 0, 0, 0, 0, 0, ...</td>\n",
              "    </tr>\n",
              "  </tbody>\n",
              "</table>\n",
              "</div>\n",
              "    <div class=\"colab-df-buttons\">\n",
              "\n",
              "  <div class=\"colab-df-container\">\n",
              "    <button class=\"colab-df-convert\" onclick=\"convertToInteractive('df-8346757e-269f-48a4-808f-35a11a71ded7')\"\n",
              "            title=\"Convert this dataframe to an interactive table.\"\n",
              "            style=\"display:none;\">\n",
              "\n",
              "  <svg xmlns=\"http://www.w3.org/2000/svg\" height=\"24px\" viewBox=\"0 -960 960 960\">\n",
              "    <path d=\"M120-120v-720h720v720H120Zm60-500h600v-160H180v160Zm220 220h160v-160H400v160Zm0 220h160v-160H400v160ZM180-400h160v-160H180v160Zm440 0h160v-160H620v160ZM180-180h160v-160H180v160Zm440 0h160v-160H620v160Z\"/>\n",
              "  </svg>\n",
              "    </button>\n",
              "\n",
              "  <style>\n",
              "    .colab-df-container {\n",
              "      display:flex;\n",
              "      gap: 12px;\n",
              "    }\n",
              "\n",
              "    .colab-df-convert {\n",
              "      background-color: #E8F0FE;\n",
              "      border: none;\n",
              "      border-radius: 50%;\n",
              "      cursor: pointer;\n",
              "      display: none;\n",
              "      fill: #1967D2;\n",
              "      height: 32px;\n",
              "      padding: 0 0 0 0;\n",
              "      width: 32px;\n",
              "    }\n",
              "\n",
              "    .colab-df-convert:hover {\n",
              "      background-color: #E2EBFA;\n",
              "      box-shadow: 0px 1px 2px rgba(60, 64, 67, 0.3), 0px 1px 3px 1px rgba(60, 64, 67, 0.15);\n",
              "      fill: #174EA6;\n",
              "    }\n",
              "\n",
              "    .colab-df-buttons div {\n",
              "      margin-bottom: 4px;\n",
              "    }\n",
              "\n",
              "    [theme=dark] .colab-df-convert {\n",
              "      background-color: #3B4455;\n",
              "      fill: #D2E3FC;\n",
              "    }\n",
              "\n",
              "    [theme=dark] .colab-df-convert:hover {\n",
              "      background-color: #434B5C;\n",
              "      box-shadow: 0px 1px 3px 1px rgba(0, 0, 0, 0.15);\n",
              "      filter: drop-shadow(0px 1px 2px rgba(0, 0, 0, 0.3));\n",
              "      fill: #FFFFFF;\n",
              "    }\n",
              "  </style>\n",
              "\n",
              "    <script>\n",
              "      const buttonEl =\n",
              "        document.querySelector('#df-8346757e-269f-48a4-808f-35a11a71ded7 button.colab-df-convert');\n",
              "      buttonEl.style.display =\n",
              "        google.colab.kernel.accessAllowed ? 'block' : 'none';\n",
              "\n",
              "      async function convertToInteractive(key) {\n",
              "        const element = document.querySelector('#df-8346757e-269f-48a4-808f-35a11a71ded7');\n",
              "        const dataTable =\n",
              "          await google.colab.kernel.invokeFunction('convertToInteractive',\n",
              "                                                    [key], {});\n",
              "        if (!dataTable) return;\n",
              "\n",
              "        const docLinkHtml = 'Like what you see? Visit the ' +\n",
              "          '<a target=\"_blank\" href=https://colab.research.google.com/notebooks/data_table.ipynb>data table notebook</a>'\n",
              "          + ' to learn more about interactive tables.';\n",
              "        element.innerHTML = '';\n",
              "        dataTable['output_type'] = 'display_data';\n",
              "        await google.colab.output.renderOutput(dataTable, element);\n",
              "        const docLink = document.createElement('div');\n",
              "        docLink.innerHTML = docLinkHtml;\n",
              "        element.appendChild(docLink);\n",
              "      }\n",
              "    </script>\n",
              "  </div>\n",
              "\n",
              "\n",
              "<div id=\"df-d1070fde-ed95-451f-a038-5faca9558d5a\">\n",
              "  <button class=\"colab-df-quickchart\" onclick=\"quickchart('df-d1070fde-ed95-451f-a038-5faca9558d5a')\"\n",
              "            title=\"Suggest charts\"\n",
              "            style=\"display:none;\">\n",
              "\n",
              "<svg xmlns=\"http://www.w3.org/2000/svg\" height=\"24px\"viewBox=\"0 0 24 24\"\n",
              "     width=\"24px\">\n",
              "    <g>\n",
              "        <path d=\"M19 3H5c-1.1 0-2 .9-2 2v14c0 1.1.9 2 2 2h14c1.1 0 2-.9 2-2V5c0-1.1-.9-2-2-2zM9 17H7v-7h2v7zm4 0h-2V7h2v10zm4 0h-2v-4h2v4z\"/>\n",
              "    </g>\n",
              "</svg>\n",
              "  </button>\n",
              "\n",
              "<style>\n",
              "  .colab-df-quickchart {\n",
              "      --bg-color: #E8F0FE;\n",
              "      --fill-color: #1967D2;\n",
              "      --hover-bg-color: #E2EBFA;\n",
              "      --hover-fill-color: #174EA6;\n",
              "      --disabled-fill-color: #AAA;\n",
              "      --disabled-bg-color: #DDD;\n",
              "  }\n",
              "\n",
              "  [theme=dark] .colab-df-quickchart {\n",
              "      --bg-color: #3B4455;\n",
              "      --fill-color: #D2E3FC;\n",
              "      --hover-bg-color: #434B5C;\n",
              "      --hover-fill-color: #FFFFFF;\n",
              "      --disabled-bg-color: #3B4455;\n",
              "      --disabled-fill-color: #666;\n",
              "  }\n",
              "\n",
              "  .colab-df-quickchart {\n",
              "    background-color: var(--bg-color);\n",
              "    border: none;\n",
              "    border-radius: 50%;\n",
              "    cursor: pointer;\n",
              "    display: none;\n",
              "    fill: var(--fill-color);\n",
              "    height: 32px;\n",
              "    padding: 0;\n",
              "    width: 32px;\n",
              "  }\n",
              "\n",
              "  .colab-df-quickchart:hover {\n",
              "    background-color: var(--hover-bg-color);\n",
              "    box-shadow: 0 1px 2px rgba(60, 64, 67, 0.3), 0 1px 3px 1px rgba(60, 64, 67, 0.15);\n",
              "    fill: var(--button-hover-fill-color);\n",
              "  }\n",
              "\n",
              "  .colab-df-quickchart-complete:disabled,\n",
              "  .colab-df-quickchart-complete:disabled:hover {\n",
              "    background-color: var(--disabled-bg-color);\n",
              "    fill: var(--disabled-fill-color);\n",
              "    box-shadow: none;\n",
              "  }\n",
              "\n",
              "  .colab-df-spinner {\n",
              "    border: 2px solid var(--fill-color);\n",
              "    border-color: transparent;\n",
              "    border-bottom-color: var(--fill-color);\n",
              "    animation:\n",
              "      spin 1s steps(1) infinite;\n",
              "  }\n",
              "\n",
              "  @keyframes spin {\n",
              "    0% {\n",
              "      border-color: transparent;\n",
              "      border-bottom-color: var(--fill-color);\n",
              "      border-left-color: var(--fill-color);\n",
              "    }\n",
              "    20% {\n",
              "      border-color: transparent;\n",
              "      border-left-color: var(--fill-color);\n",
              "      border-top-color: var(--fill-color);\n",
              "    }\n",
              "    30% {\n",
              "      border-color: transparent;\n",
              "      border-left-color: var(--fill-color);\n",
              "      border-top-color: var(--fill-color);\n",
              "      border-right-color: var(--fill-color);\n",
              "    }\n",
              "    40% {\n",
              "      border-color: transparent;\n",
              "      border-right-color: var(--fill-color);\n",
              "      border-top-color: var(--fill-color);\n",
              "    }\n",
              "    60% {\n",
              "      border-color: transparent;\n",
              "      border-right-color: var(--fill-color);\n",
              "    }\n",
              "    80% {\n",
              "      border-color: transparent;\n",
              "      border-right-color: var(--fill-color);\n",
              "      border-bottom-color: var(--fill-color);\n",
              "    }\n",
              "    90% {\n",
              "      border-color: transparent;\n",
              "      border-bottom-color: var(--fill-color);\n",
              "    }\n",
              "  }\n",
              "</style>\n",
              "\n",
              "  <script>\n",
              "    async function quickchart(key) {\n",
              "      const quickchartButtonEl =\n",
              "        document.querySelector('#' + key + ' button');\n",
              "      quickchartButtonEl.disabled = true;  // To prevent multiple clicks.\n",
              "      quickchartButtonEl.classList.add('colab-df-spinner');\n",
              "      try {\n",
              "        const charts = await google.colab.kernel.invokeFunction(\n",
              "            'suggestCharts', [key], {});\n",
              "      } catch (error) {\n",
              "        console.error('Error during call to suggestCharts:', error);\n",
              "      }\n",
              "      quickchartButtonEl.classList.remove('colab-df-spinner');\n",
              "      quickchartButtonEl.classList.add('colab-df-quickchart-complete');\n",
              "    }\n",
              "    (() => {\n",
              "      let quickchartButtonEl =\n",
              "        document.querySelector('#df-d1070fde-ed95-451f-a038-5faca9558d5a button');\n",
              "      quickchartButtonEl.style.display =\n",
              "        google.colab.kernel.accessAllowed ? 'block' : 'none';\n",
              "    })();\n",
              "  </script>\n",
              "</div>\n",
              "\n",
              "  <div id=\"id_23e2d596-c224-4c1c-8e0a-45acc9cd9467\">\n",
              "    <style>\n",
              "      .colab-df-generate {\n",
              "        background-color: #E8F0FE;\n",
              "        border: none;\n",
              "        border-radius: 50%;\n",
              "        cursor: pointer;\n",
              "        display: none;\n",
              "        fill: #1967D2;\n",
              "        height: 32px;\n",
              "        padding: 0 0 0 0;\n",
              "        width: 32px;\n",
              "      }\n",
              "\n",
              "      .colab-df-generate:hover {\n",
              "        background-color: #E2EBFA;\n",
              "        box-shadow: 0px 1px 2px rgba(60, 64, 67, 0.3), 0px 1px 3px 1px rgba(60, 64, 67, 0.15);\n",
              "        fill: #174EA6;\n",
              "      }\n",
              "\n",
              "      [theme=dark] .colab-df-generate {\n",
              "        background-color: #3B4455;\n",
              "        fill: #D2E3FC;\n",
              "      }\n",
              "\n",
              "      [theme=dark] .colab-df-generate:hover {\n",
              "        background-color: #434B5C;\n",
              "        box-shadow: 0px 1px 3px 1px rgba(0, 0, 0, 0.15);\n",
              "        filter: drop-shadow(0px 1px 2px rgba(0, 0, 0, 0.3));\n",
              "        fill: #FFFFFF;\n",
              "      }\n",
              "    </style>\n",
              "    <button class=\"colab-df-generate\" onclick=\"generateWithVariable('df')\"\n",
              "            title=\"Generate code using this dataframe.\"\n",
              "            style=\"display:none;\">\n",
              "\n",
              "  <svg xmlns=\"http://www.w3.org/2000/svg\" height=\"24px\"viewBox=\"0 0 24 24\"\n",
              "       width=\"24px\">\n",
              "    <path d=\"M7,19H8.4L18.45,9,17,7.55,7,17.6ZM5,21V16.75L18.45,3.32a2,2,0,0,1,2.83,0l1.4,1.43a1.91,1.91,0,0,1,.58,1.4,1.91,1.91,0,0,1-.58,1.4L9.25,21ZM18.45,9,17,7.55Zm-12,3A5.31,5.31,0,0,0,4.9,8.1,5.31,5.31,0,0,0,1,6.5,5.31,5.31,0,0,0,4.9,4.9,5.31,5.31,0,0,0,6.5,1,5.31,5.31,0,0,0,8.1,4.9,5.31,5.31,0,0,0,12,6.5,5.46,5.46,0,0,0,6.5,12Z\"/>\n",
              "  </svg>\n",
              "    </button>\n",
              "    <script>\n",
              "      (() => {\n",
              "      const buttonEl =\n",
              "        document.querySelector('#id_23e2d596-c224-4c1c-8e0a-45acc9cd9467 button.colab-df-generate');\n",
              "      buttonEl.style.display =\n",
              "        google.colab.kernel.accessAllowed ? 'block' : 'none';\n",
              "\n",
              "      buttonEl.onclick = () => {\n",
              "        google.colab.notebook.generateWithVariable('df');\n",
              "      }\n",
              "      })();\n",
              "    </script>\n",
              "  </div>\n",
              "\n",
              "    </div>\n",
              "  </div>\n"
            ],
            "application/vnd.google.colaboratory.intrinsic+json": {
              "type": "dataframe",
              "variable_name": "df",
              "summary": "{\n  \"name\": \"df\",\n  \"rows\": 2,\n  \"fields\": [\n    {\n      \"column\": \"input_ids\",\n      \"properties\": {\n        \"dtype\": \"object\",\n        \"semantic_type\": \"\",\n        \"description\": \"\"\n      }\n    },\n    {\n      \"column\": \"label_ids\",\n      \"properties\": {\n        \"dtype\": \"object\",\n        \"semantic_type\": \"\",\n        \"description\": \"\"\n      }\n    }\n  ]\n}"
            }
          },
          "metadata": {}
        }
      ]
    },
    {
      "cell_type": "markdown",
      "source": [
        "# **Preparing the Data for Training**"
      ],
      "metadata": {
        "id": "MztFnci3tewD"
      }
    },
    {
      "cell_type": "code",
      "source": [
        "# Define batch_size\n",
        "batch_size = 32\n",
        "# Define learning rate\n",
        "learning_rate = 5e-5\n",
        "# Define number of epochs\n",
        "num_epochs = 3\n",
        "# Define optimizer\n",
        "optimizer = AdamW(model.parameters(), lr=learning_rate)\n",
        "train_data = tokenize_and_format_data(train_dataset_sample, tokenizer)\n",
        "train_dataloader = DataLoader(train_data, batch_size=batch_size)\n"
      ],
      "metadata": {
        "colab": {
          "base_uri": "https://localhost:8080/"
        },
        "id": "sudCNMTbtguo",
        "outputId": "deff420f-a6ba-4ef9-ecfc-fc808a2a37bb"
      },
      "execution_count": 148,
      "outputs": [
        {
          "output_type": "stream",
          "name": "stderr",
          "text": [
            "/usr/local/lib/python3.10/dist-packages/transformers/optimization.py:591: FutureWarning: This implementation of AdamW is deprecated and will be removed in a future version. Use the PyTorch implementation torch.optim.AdamW instead, or set `no_deprecation_warning=True` to disable this warning\n",
            "  warnings.warn(\n"
          ]
        }
      ]
    },
    {
      "cell_type": "markdown",
      "source": [
        "# **Fine-Tuning the Model**"
      ],
      "metadata": {
        "id": "GYzuMMf-uHt5"
      }
    },
    {
      "cell_type": "code",
      "source": [
        "def train_model(model, train_dataloader, optimizer, num_epochs):\n",
        "  for epoch in range(num_epochs):\n",
        "      model.train()\n",
        "      for batch in tqdm(train_dataloader, desc=\"Training\"):\n",
        "          inputs, labels = batch\n",
        "          outputs = model(inputs, labels=labels)\n",
        "          loss = outputs.loss\n",
        "          loss.backward()\n",
        "          optimizer.step()\n",
        "          optimizer.zero_grad()\n"
      ],
      "metadata": {
        "id": "1XK2AIP6uJNY"
      },
      "execution_count": 150,
      "outputs": []
    },
    {
      "cell_type": "code",
      "source": [
        "train_model(model, train_dataloader, optimizer, num_epochs)"
      ],
      "metadata": {
        "colab": {
          "base_uri": "https://localhost:8080/"
        },
        "id": "NmwfzwAouU_7",
        "outputId": "c1efb329-2fe6-43cf-a54f-1169d4b7b710"
      },
      "execution_count": 151,
      "outputs": [
        {
          "output_type": "stream",
          "name": "stderr",
          "text": [
            "Training: 100%|██████████| 1/1 [00:13<00:00, 13.75s/it]\n",
            "Training: 100%|██████████| 1/1 [00:15<00:00, 15.12s/it]\n",
            "Training: 100%|██████████| 1/1 [00:15<00:00, 15.76s/it]\n"
          ]
        }
      ]
    },
    {
      "cell_type": "markdown",
      "source": [
        "# **Saving the Fine-Tuned Model**"
      ],
      "metadata": {
        "id": "5XYIKhzBv3f6"
      }
    },
    {
      "cell_type": "code",
      "source": [
        "model.save_pretrained('fine_tuned_ner_model')"
      ],
      "metadata": {
        "id": "n21zkGtiv6FU"
      },
      "execution_count": 152,
      "outputs": []
    },
    {
      "cell_type": "markdown",
      "source": [
        "# **THANKS**"
      ],
      "metadata": {
        "id": "h4paZv1QwdwC"
      }
    }
  ]
}